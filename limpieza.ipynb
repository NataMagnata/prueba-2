{
 "cells": [
  {
   "cell_type": "code",
   "execution_count": 1,
   "metadata": {},
   "outputs": [
    {
     "name": "stdout",
     "output_type": "stream",
     "text": [
      "🔍 Procesando: calama_corrupted.csv\n",
      "✅ Guardado: calama_clean.csv (8760 filas)\n",
      "\n",
      "🔍 Procesando: salvador_corrupted.csv\n",
      "✅ Guardado: salvador_clean.csv (8760 filas)\n",
      "\n",
      "🔍 Procesando: Vallenar_corrupted.csv\n",
      "✅ Guardado: Vallenar_clean.csv (8760 filas)\n",
      "\n"
     ]
    }
   ],
   "source": [
    "import pandas as pd\n",
    "import numpy as np\n",
    "import os\n",
    "\n",
    "# Umbrales físicos aceptables\n",
    "rango_valido = {\n",
    "    'GHI': (0, 1200),\n",
    "    'DNI': (0, 1000),\n",
    "    'DHI': (0, 600),\n",
    "    'Tdry': (-40, 60),\n",
    "    'Tdew': (-40, 60),\n",
    "    'RH': (0, 100),\n",
    "    'Pres': (800, 1100),\n",
    "    'Wspd': (0, 60),\n",
    "    'Wdir': (0, 360),\n",
    "    'Snow Depth': (0, 200)\n",
    "}\n",
    "\n",
    "archivos = [\n",
    "    'calama_corrupted.csv',\n",
    "    'salvador_corrupted.csv',\n",
    "    'Vallenar_corrupted.csv'\n",
    "]\n",
    "\n",
    "def limpiar_archivo(nombre_archivo):\n",
    "    print(f\"🔍 Procesando: {nombre_archivo}\")\n",
    "    \n",
    "    df = pd.read_csv(nombre_archivo)\n",
    "    original_cols = df.columns.tolist()\n",
    "\n",
    "    # Limpiar filas con número incorrecto de columnas (opcional)\n",
    "    df = df[df.columns[:15]]\n",
    "\n",
    "    # Eliminar filas completamente vacías\n",
    "    df.dropna(how='all', inplace=True)\n",
    "\n",
    "    # Reemplazar valores fuera de rango por NaN y luego interpolar\n",
    "    for col, (vmin, vmax) in rango_valido.items():\n",
    "        if col in df.columns:\n",
    "            df[col] = pd.to_numeric(df[col], errors='coerce')\n",
    "            df.loc[(df[col] < vmin) | (df[col] > vmax), col] = np.nan\n",
    "            df[col] = df[col].interpolate(limit=3)\n",
    "            df[col] = df[col].ffill().bfill()\n",
    "\n",
    "    # Guardar archivo limpio\n",
    "    nombre_limpio = nombre_archivo.replace(\"_corrupted\", \"_clean\")\n",
    "    df.to_csv(nombre_limpio, index=False)\n",
    "    print(f\"✅ Guardado: {nombre_limpio} ({len(df)} filas)\\n\")\n",
    "\n",
    "# Aplicar a todos los archivos\n",
    "for archivo in archivos:\n",
    "    if os.path.exists(archivo):\n",
    "        limpiar_archivo(archivo)\n",
    "    else:\n",
    "        print(f\"❌ No se encontró el archivo: {archivo}\")\n"
   ]
  }
 ],
 "metadata": {
  "kernelspec": {
   "display_name": "pvsim",
   "language": "python",
   "name": "python3"
  },
  "language_info": {
   "codemirror_mode": {
    "name": "ipython",
    "version": 3
   },
   "file_extension": ".py",
   "mimetype": "text/x-python",
   "name": "python",
   "nbconvert_exporter": "python",
   "pygments_lexer": "ipython3",
   "version": "3.10.17"
  }
 },
 "nbformat": 4,
 "nbformat_minor": 2
}
